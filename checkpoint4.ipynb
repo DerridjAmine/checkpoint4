{
 "cells": [
  {
   "cell_type": "code",
   "execution_count": 1,
   "id": "5897cbae",
   "metadata": {},
   "outputs": [],
   "source": [
    "def comp (a,b,c):\n",
    "        if a>b and a>c:\n",
    "            return a\n",
    "        elif b>a and b>c:\n",
    "            return b\n",
    "        elif c>a and c>b:\n",
    "            return c"
   ]
  },
  {
   "cell_type": "code",
   "execution_count": 2,
   "id": "f708151a",
   "metadata": {},
   "outputs": [
    {
     "data": {
      "text/plain": [
       "7"
      ]
     },
     "execution_count": 2,
     "metadata": {},
     "output_type": "execute_result"
    }
   ],
   "source": [
    "comp(5,6,7)"
   ]
  },
  {
   "cell_type": "code",
   "execution_count": 3,
   "id": "31726cc5",
   "metadata": {},
   "outputs": [],
   "source": [
    "def calcul(g,h):\n",
    "    somme=g+h\n",
    "    sus=g-h\n",
    "    return somme,sus"
   ]
  },
  {
   "cell_type": "code",
   "execution_count": 4,
   "id": "c86e5a4a",
   "metadata": {},
   "outputs": [
    {
     "data": {
      "text/plain": [
       "(50, 30)"
      ]
     },
     "execution_count": 4,
     "metadata": {},
     "output_type": "execute_result"
    }
   ],
   "source": [
    "calcul(40,10)"
   ]
  },
  {
   "cell_type": "code",
   "execution_count": 5,
   "id": "b79750fc",
   "metadata": {},
   "outputs": [],
   "source": [
    "def somme(a):\n",
    "    som=0\n",
    "    for i in a:\n",
    "        som=som+i\n",
    "    return som"
   ]
  },
  {
   "cell_type": "code",
   "execution_count": 6,
   "id": "8f37b314",
   "metadata": {},
   "outputs": [
    {
     "data": {
      "text/plain": [
       "15"
      ]
     },
     "execution_count": 6,
     "metadata": {},
     "output_type": "execute_result"
    }
   ],
   "source": [
    "list=[4,5,6]\n",
    "somme(list)"
   ]
  },
  {
   "cell_type": "code",
   "execution_count": 7,
   "id": "87fa71f6",
   "metadata": {},
   "outputs": [],
   "source": [
    "def multiplication(a):\n",
    "    mult=1\n",
    "    for i in a:\n",
    "        mult=mult*i\n",
    "    return mult"
   ]
  },
  {
   "cell_type": "code",
   "execution_count": 8,
   "id": "209a0f8f",
   "metadata": {},
   "outputs": [
    {
     "data": {
      "text/plain": [
       "120"
      ]
     },
     "execution_count": 8,
     "metadata": {},
     "output_type": "execute_result"
    }
   ],
   "source": [
    "list=[4,5,6]\n",
    "multiplication(list)"
   ]
  },
  {
   "cell_type": "code",
   "execution_count": 9,
   "id": "b9d87efb",
   "metadata": {},
   "outputs": [
    {
     "ename": "TypeError",
     "evalue": "'list' object cannot be interpreted as an integer",
     "output_type": "error",
     "traceback": [
      "\u001b[1;31m---------------------------------------------------------------------------\u001b[0m",
      "\u001b[1;31mTypeError\u001b[0m                                 Traceback (most recent call last)",
      "Input \u001b[1;32mIn [9]\u001b[0m, in \u001b[0;36m<cell line: 4>\u001b[1;34m()\u001b[0m\n\u001b[0;32m      2\u001b[0m list1\u001b[38;5;241m=\u001b[39m[]\n\u001b[0;32m      3\u001b[0m list2\u001b[38;5;241m=\u001b[39m[]\n\u001b[1;32m----> 4\u001b[0m \u001b[38;5;28;01mfor\u001b[39;00m i \u001b[38;5;129;01min\u001b[39;00m \u001b[38;5;28;43mrange\u001b[39;49m\u001b[43m(\u001b[49m\u001b[43mz\u001b[49m\u001b[43m)\u001b[49m:\n\u001b[0;32m      5\u001b[0m     \u001b[38;5;28;01mif\u001b[39;00m i\u001b[38;5;241m%\u001b[39m\u001b[38;5;241m2\u001b[39m\u001b[38;5;241m==\u001b[39m\u001b[38;5;241m0\u001b[39m:\n\u001b[0;32m      6\u001b[0m         list1\u001b[38;5;241m.\u001b[39mappend(z[i])\n",
      "\u001b[1;31mTypeError\u001b[0m: 'list' object cannot be interpreted as an integer"
     ]
    }
   ],
   "source": [
    "z=[4,5,6,8,9]\n",
    "list1=[]\n",
    "list2=[]\n",
    "for i in range(z):\n",
    "    if i%2==0:\n",
    "        list1.append(z[i])\n",
    "    elif i%2!=0:\n",
    "         list2.append(z[i])\n",
    "print(list1, list2)"
   ]
  },
  {
   "cell_type": "code",
   "execution_count": null,
   "id": "539a9f31",
   "metadata": {},
   "outputs": [],
   "source": [
    "z=[4,5,6,8,9]\n",
    "list1=[]\n",
    "for i in range(len(z)):\n",
    "    if i%2==0:\n",
    "        list1=list1+i\n",
    "print(list1)"
   ]
  },
  {
   "cell_type": "code",
   "execution_count": null,
   "id": "5049798e",
   "metadata": {},
   "outputs": [],
   "source": [
    "z=[\"4\",\"5\",\"6\",\"8\",\"9\"]\n",
    "list1=[]\n",
    "list2=[]\n",
    "ind=z.index(i)\n",
    "for i in z:\n",
    "    if ind%2==0:\n",
    "        list1.append(i)\n",
    "    elif ind%2!=0:\n",
    "         list2.append(i)   \n",
    "                          \n",
    "print(list1, list2)"
   ]
  },
  {
   "cell_type": "code",
   "execution_count": null,
   "id": "4dd9e0a7",
   "metadata": {},
   "outputs": [],
   "source": [
    "z=[4,5,6,8,9]\n",
    "list1=[]\n",
    "list2=[]\n",
    "if z.index(i)%2==0:\n",
    "    list1.append(i)\n",
    "elif z.index(i)%2!=0:\n",
    "    list2.append(i)\n",
    "print(list1, list2)"
   ]
  },
  {
   "cell_type": "code",
   "execution_count": null,
   "id": "9ef32fc4",
   "metadata": {},
   "outputs": [],
   "source": [
    "z=[4,5,6,8,9]\n",
    "list1=[]\n",
    "list2=[]\n",
    "ind=z.index(i)\n",
    "for i in z:\n",
    "    if ind%2==0:\n",
    "        list1.append(i)\n",
    "    elif ind%2!=0:\n",
    "         list2.append(i)   \n",
    "                          \n",
    "print(list1, list2)"
   ]
  },
  {
   "cell_type": "code",
   "execution_count": null,
   "id": "7bd3dce5",
   "metadata": {},
   "outputs": [],
   "source": [
    "z=[4,5,6,8,9]\n",
    "list1=[]\n",
    "list2=[]\n",
    "ind=z.index(i)\n",
    "for ind in z:\n",
    "    if ind%2==0:\n",
    "        list1.append(i)\n",
    "    elif ind%2!=0:\n",
    "         list2.append(i)   \n",
    "                          \n",
    "print(list1, list2)"
   ]
  },
  {
   "cell_type": "code",
   "execution_count": null,
   "id": "50d0f9b3",
   "metadata": {},
   "outputs": [],
   "source": [
    "z=[4,5,6,8,9]\n",
    "list1=[]\n",
    "ind=z.index(i)\n",
    "for i in z:\n",
    "    if ind%2!=0:\n",
    "        list1.append(i)\n",
    "print(list1)"
   ]
  },
  {
   "cell_type": "code",
   "execution_count": null,
   "id": "2079ff7e",
   "metadata": {},
   "outputs": [],
   "source": [
    "z=[4,5,6,8,9]\n",
    "for [i] in z:\n",
    "    if [i]%2==0:\n",
    "        print(i)"
   ]
  },
  {
   "cell_type": "code",
   "execution_count": null,
   "id": "330fde18",
   "metadata": {},
   "outputs": [],
   "source": [
    "z=[4,5,6,8,9]\n",
    "list1=[]\n",
    "list2=[]\n",
    "for element in enumerate([4,5,6,8,9]):\n",
    "    print(element,end=\" \")\n",
    "for indice, element in enumerate([4,5,6,8,9]):\n",
    "    print(indice, element)\n",
    "for indice, element in enumerate([4,5,6,8,9]):\n",
    "    if indice % 2 ==0:\n",
    "        list1.append(element)\n",
    "    elif indice %2 !=0:\n",
    "         list2.append(element)\n",
    "print(list1, list2)"
   ]
  },
  {
   "cell_type": "code",
   "execution_count": 11,
   "id": "a5eb0e50",
   "metadata": {},
   "outputs": [],
   "source": [
    "def somme(a):\n",
    "    som=0\n",
    "    for i in a:\n",
    "        som=som+i\n",
    "    return som"
   ]
  },
  {
   "cell_type": "code",
   "execution_count": 12,
   "id": "3396c3fa",
   "metadata": {},
   "outputs": [
    {
     "data": {
      "text/plain": [
       "0"
      ]
     },
     "execution_count": 12,
     "metadata": {},
     "output_type": "execute_result"
    }
   ],
   "source": [
    "somme(list1)"
   ]
  },
  {
   "cell_type": "code",
   "execution_count": 13,
   "id": "92eaf2fb",
   "metadata": {},
   "outputs": [],
   "source": [
    "def multiplication(a):\n",
    "    mult=1\n",
    "    for i in a:\n",
    "        mult=mult*i\n",
    "    return mult"
   ]
  },
  {
   "cell_type": "code",
   "execution_count": 14,
   "id": "f9e534a1",
   "metadata": {},
   "outputs": [
    {
     "data": {
      "text/plain": [
       "1"
      ]
     },
     "execution_count": 14,
     "metadata": {},
     "output_type": "execute_result"
    }
   ],
   "source": [
    "multiplication(list2)"
   ]
  },
  {
   "cell_type": "code",
   "execution_count": 17,
   "id": "0180698d",
   "metadata": {},
   "outputs": [],
   "source": [
    "def fun_list(z):\n",
    "    odd_list=[]\n",
    "    even_list=[]\n",
    "    for i in range(len(z)):\n",
    "        if i % 2==0:\n",
    "            even_list.append(z[i])\n",
    "        else:\n",
    "            odd_list.append(z[i])\n",
    "    return even_list,odd_list,somme(even_list),multiplication(odd_list)"
   ]
  },
  {
   "cell_type": "code",
   "execution_count": 18,
   "id": "bbe504de",
   "metadata": {},
   "outputs": [
    {
     "data": {
      "text/plain": [
       "([4, 6, 9], [5, 8], 19, 40)"
      ]
     },
     "execution_count": 18,
     "metadata": {},
     "output_type": "execute_result"
    }
   ],
   "source": [
    "z=[4,5,6,8,9]\n",
    "fun_list(z)"
   ]
  },
  {
   "cell_type": "code",
   "execution_count": 30,
   "id": "c158a96a",
   "metadata": {},
   "outputs": [
    {
     "name": "stdout",
     "output_type": "stream",
     "text": [
      "['welcome', 'to', 'the', 'jungle']\n"
     ]
    }
   ],
   "source": [
    "#split function\n",
    "txt = \"welcome to the jungle\"\n",
    "\n",
    "x = txt.split()\n",
    "\n",
    "print(x)\n"
   ]
  },
  {
   "cell_type": "code",
   "execution_count": 31,
   "id": "8067bbc4",
   "metadata": {},
   "outputs": [
    {
     "name": "stdout",
     "output_type": "stream",
     "text": [
      "['jungle', 'the', 'to', 'welcome']\n"
     ]
    }
   ],
   "source": [
    "#sort function\n",
    "x.sort()\n",
    "print(x)"
   ]
  },
  {
   "cell_type": "code",
   "execution_count": 29,
   "id": "bfb9513f",
   "metadata": {},
   "outputs": [
    {
     "name": "stdout",
     "output_type": "stream",
     "text": [
      "John#Peter#Vicky\n"
     ]
    }
   ],
   "source": [
    "#join function\n",
    "myTuple = (\"John\", \"Peter\", \"Vicky\")\n",
    "\n",
    "p = \"#\".join(myTuple)\n",
    "\n",
    "print(p)"
   ]
  },
  {
   "cell_type": "code",
   "execution_count": 32,
   "id": "326a08c7",
   "metadata": {},
   "outputs": [
    {
     "name": "stdout",
     "output_type": "stream",
     "text": [
      "jungle-the-to-welcome\n"
     ]
    }
   ],
   "source": [
    "y= \"-\".join(x)\n",
    "print(y)"
   ]
  },
  {
   "cell_type": "code",
   "execution_count": 37,
   "id": "f4da7fb6",
   "metadata": {},
   "outputs": [
    {
     "name": "stdout",
     "output_type": "stream",
     "text": [
      "a-g-y-v\n",
      "['a', 'g', 'y', 'v']\n",
      "None\n"
     ]
    },
    {
     "ename": "TypeError",
     "evalue": "can only join an iterable",
     "output_type": "error",
     "traceback": [
      "\u001b[1;31m---------------------------------------------------------------------------\u001b[0m",
      "\u001b[1;31mTypeError\u001b[0m                                 Traceback (most recent call last)",
      "Input \u001b[1;32mIn [37]\u001b[0m, in \u001b[0;36m<cell line: 6>\u001b[1;34m()\u001b[0m\n\u001b[0;32m      4\u001b[0m so\u001b[38;5;241m=\u001b[39mspl\u001b[38;5;241m.\u001b[39msort()\n\u001b[0;32m      5\u001b[0m \u001b[38;5;28mprint\u001b[39m(so)\n\u001b[1;32m----> 6\u001b[0m joi\u001b[38;5;241m=\u001b[39m \u001b[38;5;124;43m\"\u001b[39;49m\u001b[38;5;124;43m-\u001b[39;49m\u001b[38;5;124;43m\"\u001b[39;49m\u001b[38;5;241;43m.\u001b[39;49m\u001b[43mjoin\u001b[49m\u001b[43m(\u001b[49m\u001b[43mso\u001b[49m\u001b[43m)\u001b[49m\n\u001b[0;32m      7\u001b[0m \u001b[38;5;28mprint\u001b[39m(joi)\n",
      "\u001b[1;31mTypeError\u001b[0m: can only join an iterable"
     ]
    }
   ],
   "source": [
    "g=input()\n",
    "spl=g.split('-')\n",
    "print(spl)\n",
    "so=spl.sort()\n",
    "print(so)\n",
    "joi= \"-\".join(so)\n",
    "print(joi)"
   ]
  },
  {
   "cell_type": "code",
   "execution_count": 43,
   "id": "92478305",
   "metadata": {},
   "outputs": [
    {
     "name": "stdout",
     "output_type": "stream",
     "text": [
      "green-red-yellow-black-white\n",
      "['green', 'red', 'yellow', 'black', 'white']\n",
      "['black', 'green', 'red', 'white', 'yellow']\n",
      "black-green-red-white-yellow\n"
     ]
    }
   ],
   "source": [
    "g=input()\n",
    "spl=g.split('-')\n",
    "print(spl)\n",
    "spl.sort()\n",
    "print(spl)\n",
    "joi= \"-\".join(spl)\n",
    "print(joi)"
   ]
  },
  {
   "cell_type": "code",
   "execution_count": 44,
   "id": "761987f5",
   "metadata": {},
   "outputs": [
    {
     "name": "stdout",
     "output_type": "stream",
     "text": [
      "green-red-yellow-black-white\n",
      "black-green-red-white-yellow\n"
     ]
    }
   ],
   "source": [
    "z=input().split(\"-\")\n",
    "z.sort()\n",
    "print(\"-\".join(z))"
   ]
  },
  {
   "cell_type": "code",
   "execution_count": 85,
   "id": "c55ba9e1",
   "metadata": {},
   "outputs": [],
   "source": [
    "from math import sqrt\n",
    "def sq():\n",
    "    d=input().split(\",\")\n",
    "    for i in d:\n",
    "        q= round(sqrt((2 * 50 * int(i)/30)))\n",
    "        print(q)"
   ]
  },
  {
   "cell_type": "code",
   "execution_count": 86,
   "id": "edb5c558",
   "metadata": {},
   "outputs": [
    {
     "name": "stdout",
     "output_type": "stream",
     "text": [
      "100,150,180\n",
      "18\n",
      "22\n",
      "24\n"
     ]
    }
   ],
   "source": [
    "sq()"
   ]
  }
 ],
 "metadata": {
  "kernelspec": {
   "display_name": "Python 3 (ipykernel)",
   "language": "python",
   "name": "python3"
  },
  "language_info": {
   "codemirror_mode": {
    "name": "ipython",
    "version": 3
   },
   "file_extension": ".py",
   "mimetype": "text/x-python",
   "name": "python",
   "nbconvert_exporter": "python",
   "pygments_lexer": "ipython3",
   "version": "3.9.12"
  }
 },
 "nbformat": 4,
 "nbformat_minor": 5
}
